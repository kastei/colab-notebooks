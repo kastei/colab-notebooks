{
  "nbformat": 4,
  "nbformat_minor": 0,
  "metadata": {
    "colab": {
      "provenance": [],
      "authorship_tag": "ABX9TyPuS4dgg7y3aytQNl99AZc3",
      "include_colab_link": true
    },
    "kernelspec": {
      "name": "python3",
      "display_name": "Python 3"
    },
    "language_info": {
      "name": "python"
    },
    "widgets": {
      "application/vnd.jupyter.widget-state+json": {
        "85546ca7a4af4445ab0f1934f128f19f": {
          "model_module": "@jupyter-widgets/controls",
          "model_name": "HBoxModel",
          "model_module_version": "1.5.0",
          "state": {
            "_dom_classes": [],
            "_model_module": "@jupyter-widgets/controls",
            "_model_module_version": "1.5.0",
            "_model_name": "HBoxModel",
            "_view_count": null,
            "_view_module": "@jupyter-widgets/controls",
            "_view_module_version": "1.5.0",
            "_view_name": "HBoxView",
            "box_style": "",
            "children": [
              "IPY_MODEL_6b8486edbf464bd8b4344edda35dcd8e",
              "IPY_MODEL_1fea4031443642d98d249777caf4ef7d",
              "IPY_MODEL_f255f19fbf0241cf91ac12ebd06da348"
            ],
            "layout": "IPY_MODEL_c9a7f39141234279a8bb85d65ff41d3c"
          }
        },
        "6b8486edbf464bd8b4344edda35dcd8e": {
          "model_module": "@jupyter-widgets/controls",
          "model_name": "HTMLModel",
          "model_module_version": "1.5.0",
          "state": {
            "_dom_classes": [],
            "_model_module": "@jupyter-widgets/controls",
            "_model_module_version": "1.5.0",
            "_model_name": "HTMLModel",
            "_view_count": null,
            "_view_module": "@jupyter-widgets/controls",
            "_view_module_version": "1.5.0",
            "_view_name": "HTMLView",
            "description": "",
            "description_tooltip": null,
            "layout": "IPY_MODEL_00722d56889545c4b57fccab1add468a",
            "placeholder": "​",
            "style": "IPY_MODEL_521fe26db2904bf0bc3a6e25fe17e564",
            "value": ""
          }
        },
        "1fea4031443642d98d249777caf4ef7d": {
          "model_module": "@jupyter-widgets/controls",
          "model_name": "FloatProgressModel",
          "model_module_version": "1.5.0",
          "state": {
            "_dom_classes": [],
            "_model_module": "@jupyter-widgets/controls",
            "_model_module_version": "1.5.0",
            "_model_name": "FloatProgressModel",
            "_view_count": null,
            "_view_module": "@jupyter-widgets/controls",
            "_view_module_version": "1.5.0",
            "_view_name": "ProgressView",
            "bar_style": "success",
            "description": "",
            "description_tooltip": null,
            "layout": "IPY_MODEL_1aad1b62ed474e969e32751ee34ac121",
            "max": 1,
            "min": 0,
            "orientation": "horizontal",
            "style": "IPY_MODEL_00554131bcec477cb8235afd8aa75453",
            "value": 0
          }
        },
        "f255f19fbf0241cf91ac12ebd06da348": {
          "model_module": "@jupyter-widgets/controls",
          "model_name": "HTMLModel",
          "model_module_version": "1.5.0",
          "state": {
            "_dom_classes": [],
            "_model_module": "@jupyter-widgets/controls",
            "_model_module_version": "1.5.0",
            "_model_name": "HTMLModel",
            "_view_count": null,
            "_view_module": "@jupyter-widgets/controls",
            "_view_module_version": "1.5.0",
            "_view_name": "HTMLView",
            "description": "",
            "description_tooltip": null,
            "layout": "IPY_MODEL_9fea254779014132b4616f27e0878c5e",
            "placeholder": "​",
            "style": "IPY_MODEL_987c88daea554e00963743fa9d2731b1",
            "value": "Processing: 2023/04: "
          }
        },
        "c9a7f39141234279a8bb85d65ff41d3c": {
          "model_module": "@jupyter-widgets/base",
          "model_name": "LayoutModel",
          "model_module_version": "1.2.0",
          "state": {
            "_model_module": "@jupyter-widgets/base",
            "_model_module_version": "1.2.0",
            "_model_name": "LayoutModel",
            "_view_count": null,
            "_view_module": "@jupyter-widgets/base",
            "_view_module_version": "1.2.0",
            "_view_name": "LayoutView",
            "align_content": null,
            "align_items": null,
            "align_self": null,
            "border": null,
            "bottom": null,
            "display": null,
            "flex": null,
            "flex_flow": null,
            "grid_area": null,
            "grid_auto_columns": null,
            "grid_auto_flow": null,
            "grid_auto_rows": null,
            "grid_column": null,
            "grid_gap": null,
            "grid_row": null,
            "grid_template_areas": null,
            "grid_template_columns": null,
            "grid_template_rows": null,
            "height": null,
            "justify_content": null,
            "justify_items": null,
            "left": null,
            "margin": null,
            "max_height": null,
            "max_width": null,
            "min_height": null,
            "min_width": null,
            "object_fit": null,
            "object_position": null,
            "order": null,
            "overflow": null,
            "overflow_x": null,
            "overflow_y": null,
            "padding": null,
            "right": null,
            "top": null,
            "visibility": null,
            "width": null
          }
        },
        "00722d56889545c4b57fccab1add468a": {
          "model_module": "@jupyter-widgets/base",
          "model_name": "LayoutModel",
          "model_module_version": "1.2.0",
          "state": {
            "_model_module": "@jupyter-widgets/base",
            "_model_module_version": "1.2.0",
            "_model_name": "LayoutModel",
            "_view_count": null,
            "_view_module": "@jupyter-widgets/base",
            "_view_module_version": "1.2.0",
            "_view_name": "LayoutView",
            "align_content": null,
            "align_items": null,
            "align_self": null,
            "border": null,
            "bottom": null,
            "display": null,
            "flex": null,
            "flex_flow": null,
            "grid_area": null,
            "grid_auto_columns": null,
            "grid_auto_flow": null,
            "grid_auto_rows": null,
            "grid_column": null,
            "grid_gap": null,
            "grid_row": null,
            "grid_template_areas": null,
            "grid_template_columns": null,
            "grid_template_rows": null,
            "height": null,
            "justify_content": null,
            "justify_items": null,
            "left": null,
            "margin": null,
            "max_height": null,
            "max_width": null,
            "min_height": null,
            "min_width": null,
            "object_fit": null,
            "object_position": null,
            "order": null,
            "overflow": null,
            "overflow_x": null,
            "overflow_y": null,
            "padding": null,
            "right": null,
            "top": null,
            "visibility": null,
            "width": null
          }
        },
        "521fe26db2904bf0bc3a6e25fe17e564": {
          "model_module": "@jupyter-widgets/controls",
          "model_name": "DescriptionStyleModel",
          "model_module_version": "1.5.0",
          "state": {
            "_model_module": "@jupyter-widgets/controls",
            "_model_module_version": "1.5.0",
            "_model_name": "DescriptionStyleModel",
            "_view_count": null,
            "_view_module": "@jupyter-widgets/base",
            "_view_module_version": "1.2.0",
            "_view_name": "StyleView",
            "description_width": ""
          }
        },
        "1aad1b62ed474e969e32751ee34ac121": {
          "model_module": "@jupyter-widgets/base",
          "model_name": "LayoutModel",
          "model_module_version": "1.2.0",
          "state": {
            "_model_module": "@jupyter-widgets/base",
            "_model_module_version": "1.2.0",
            "_model_name": "LayoutModel",
            "_view_count": null,
            "_view_module": "@jupyter-widgets/base",
            "_view_module_version": "1.2.0",
            "_view_name": "LayoutView",
            "align_content": null,
            "align_items": null,
            "align_self": null,
            "border": null,
            "bottom": null,
            "display": null,
            "flex": null,
            "flex_flow": null,
            "grid_area": null,
            "grid_auto_columns": null,
            "grid_auto_flow": null,
            "grid_auto_rows": null,
            "grid_column": null,
            "grid_gap": null,
            "grid_row": null,
            "grid_template_areas": null,
            "grid_template_columns": null,
            "grid_template_rows": null,
            "height": null,
            "justify_content": null,
            "justify_items": null,
            "left": null,
            "margin": null,
            "max_height": null,
            "max_width": null,
            "min_height": null,
            "min_width": null,
            "object_fit": null,
            "object_position": null,
            "order": null,
            "overflow": null,
            "overflow_x": null,
            "overflow_y": null,
            "padding": null,
            "right": null,
            "top": null,
            "visibility": null,
            "width": "20px"
          }
        },
        "00554131bcec477cb8235afd8aa75453": {
          "model_module": "@jupyter-widgets/controls",
          "model_name": "ProgressStyleModel",
          "model_module_version": "1.5.0",
          "state": {
            "_model_module": "@jupyter-widgets/controls",
            "_model_module_version": "1.5.0",
            "_model_name": "ProgressStyleModel",
            "_view_count": null,
            "_view_module": "@jupyter-widgets/base",
            "_view_module_version": "1.2.0",
            "_view_name": "StyleView",
            "bar_color": null,
            "description_width": ""
          }
        },
        "9fea254779014132b4616f27e0878c5e": {
          "model_module": "@jupyter-widgets/base",
          "model_name": "LayoutModel",
          "model_module_version": "1.2.0",
          "state": {
            "_model_module": "@jupyter-widgets/base",
            "_model_module_version": "1.2.0",
            "_model_name": "LayoutModel",
            "_view_count": null,
            "_view_module": "@jupyter-widgets/base",
            "_view_module_version": "1.2.0",
            "_view_name": "LayoutView",
            "align_content": null,
            "align_items": null,
            "align_self": null,
            "border": null,
            "bottom": null,
            "display": null,
            "flex": null,
            "flex_flow": null,
            "grid_area": null,
            "grid_auto_columns": null,
            "grid_auto_flow": null,
            "grid_auto_rows": null,
            "grid_column": null,
            "grid_gap": null,
            "grid_row": null,
            "grid_template_areas": null,
            "grid_template_columns": null,
            "grid_template_rows": null,
            "height": null,
            "justify_content": null,
            "justify_items": null,
            "left": null,
            "margin": null,
            "max_height": null,
            "max_width": null,
            "min_height": null,
            "min_width": null,
            "object_fit": null,
            "object_position": null,
            "order": null,
            "overflow": null,
            "overflow_x": null,
            "overflow_y": null,
            "padding": null,
            "right": null,
            "top": null,
            "visibility": null,
            "width": null
          }
        },
        "987c88daea554e00963743fa9d2731b1": {
          "model_module": "@jupyter-widgets/controls",
          "model_name": "DescriptionStyleModel",
          "model_module_version": "1.5.0",
          "state": {
            "_model_module": "@jupyter-widgets/controls",
            "_model_module_version": "1.5.0",
            "_model_name": "DescriptionStyleModel",
            "_view_count": null,
            "_view_module": "@jupyter-widgets/base",
            "_view_module_version": "1.2.0",
            "_view_name": "StyleView",
            "description_width": ""
          }
        }
      }
    }
  },
  "cells": [
    {
      "cell_type": "markdown",
      "metadata": {
        "id": "view-in-github",
        "colab_type": "text"
      },
      "source": [
        "<a href=\"https://colab.research.google.com/github/kastei/colab-notebooks/blob/main/parse_crossfit_com.ipynb\" target=\"_parent\"><img src=\"https://colab.research.google.com/assets/colab-badge.svg\" alt=\"Open In Colab\"/></a>"
      ]
    },
    {
      "cell_type": "code",
      "source": [
        "!pip install requests\n",
        "!pip install beautifulsoup4 "
      ],
      "metadata": {
        "colab": {
          "base_uri": "https://localhost:8080/"
        },
        "id": "-Cf-48yhpdPK",
        "outputId": "cf97f1dd-0521-4cc6-c4e4-41add8792b04"
      },
      "execution_count": 1,
      "outputs": [
        {
          "output_type": "stream",
          "name": "stdout",
          "text": [
            "Looking in indexes: https://pypi.org/simple, https://us-python.pkg.dev/colab-wheels/public/simple/\n",
            "Requirement already satisfied: requests in /usr/local/lib/python3.10/dist-packages (2.27.1)\n",
            "Requirement already satisfied: charset-normalizer~=2.0.0 in /usr/local/lib/python3.10/dist-packages (from requests) (2.0.12)\n",
            "Requirement already satisfied: certifi>=2017.4.17 in /usr/local/lib/python3.10/dist-packages (from requests) (2022.12.7)\n",
            "Requirement already satisfied: urllib3<1.27,>=1.21.1 in /usr/local/lib/python3.10/dist-packages (from requests) (1.26.15)\n",
            "Requirement already satisfied: idna<4,>=2.5 in /usr/local/lib/python3.10/dist-packages (from requests) (3.4)\n",
            "Looking in indexes: https://pypi.org/simple, https://us-python.pkg.dev/colab-wheels/public/simple/\n",
            "Requirement already satisfied: beautifulsoup4 in /usr/local/lib/python3.10/dist-packages (4.11.2)\n",
            "Requirement already satisfied: soupsieve>1.2 in /usr/local/lib/python3.10/dist-packages (from beautifulsoup4) (2.4.1)\n"
          ]
        }
      ]
    },
    {
      "cell_type": "code",
      "source": [
        "import requests\n",
        "from bs4 import BeautifulSoup\n",
        "from datetime import datetime\n",
        "from dateutil.relativedelta import relativedelta\n",
        "from tqdm.notebook import tqdm\n"
      ],
      "metadata": {
        "id": "U0WFtSlSpkAJ"
      },
      "execution_count": 118,
      "outputs": []
    },
    {
      "cell_type": "code",
      "execution_count": 126,
      "metadata": {
        "colab": {
          "base_uri": "https://localhost:8080/",
          "height": 49,
          "referenced_widgets": [
            "85546ca7a4af4445ab0f1934f128f19f",
            "6b8486edbf464bd8b4344edda35dcd8e",
            "1fea4031443642d98d249777caf4ef7d",
            "f255f19fbf0241cf91ac12ebd06da348",
            "c9a7f39141234279a8bb85d65ff41d3c",
            "00722d56889545c4b57fccab1add468a",
            "521fe26db2904bf0bc3a6e25fe17e564",
            "1aad1b62ed474e969e32751ee34ac121",
            "00554131bcec477cb8235afd8aa75453",
            "9fea254779014132b4616f27e0878c5e",
            "987c88daea554e00963743fa9d2731b1"
          ]
        },
        "id": "-Kt-2JJxpL0x",
        "outputId": "06b6ed6b-5bc4-48f4-faaa-c72995e8e564"
      },
      "outputs": [
        {
          "output_type": "display_data",
          "data": {
            "text/plain": [
              "0it [00:00, ?it/s]"
            ],
            "application/vnd.jupyter.widget-view+json": {
              "version_major": 2,
              "version_minor": 0,
              "model_id": "85546ca7a4af4445ab0f1934f128f19f"
            }
          },
          "metadata": {}
        }
      ],
      "source": [
        "result = []\n",
        "cur_date = date(2010, 1, 1)\n",
        "\n",
        "pbar = tqdm()\n",
        "pbar.bar_format = '{desc}'\n",
        "pbar.reset()\n",
        "\n",
        "while cur_date < date.today():\n",
        "\n",
        "  pbar.set_description(f\"Processing: \" + cur_date.strftime(\"%Y/%m\"))\n",
        "\n",
        "  url = 'https://www.crossfit.com/workout/' + cur_date.strftime(\"%Y/%m/\")\n",
        "  response = requests.get(url)\n",
        "  \n",
        "  if response.ok:\n",
        "    soup = BeautifulSoup(response.text, \"html.parser\")\n",
        "    data = soup.findAll('div', class_='row content-container')\n",
        "    for day_data in data:\n",
        "      result.append({'date': cur_date.strftime(\"%Y/%m/%d\"),\n",
        "                     'row_data': day_data,\n",
        "                     'content': day_data.text})\n",
        "    \n",
        "  cur_date = cur_date + relativedelta(months=1)\n",
        "\n",
        "pbar.close()"
      ]
    },
    {
      "cell_type": "code",
      "source": [
        "import csv\n",
        "\n",
        "with open('crossfit.com.csv', 'w') as f:\n",
        "    writer = csv.writer(f)\n",
        "    for row in result:\n",
        "      writer.writerow(row.values())"
      ],
      "metadata": {
        "id": "_B-_uFDJ8wI7"
      },
      "execution_count": 99,
      "outputs": []
    },
    {
      "cell_type": "code",
      "source": [
        "import pandas as pd\n",
        "\n",
        "data = pd.read_csv('crossfit.com.csv', header=0, names=['date', 'row_data', 'text_data'])\n",
        "\n",
        "print(data)\n"
      ],
      "metadata": {
        "colab": {
          "base_uri": "https://localhost:8080/"
        },
        "id": "TyNrapUfLbs7",
        "outputId": "427b553f-5319-4067-f1e3-db012c21dcca"
      },
      "execution_count": 114,
      "outputs": [
        {
          "output_type": "stream",
          "name": "stdout",
          "text": [
            "            date                                           row_data  \\\n",
            "0     2010/01/01  <div class=\"row content-container\">\\n<div clas...   \n",
            "1     2010/01/01  <div class=\"row content-container\">\\n<div clas...   \n",
            "2     2010/01/01  <div class=\"row content-container\">\\n<div clas...   \n",
            "3     2010/01/01  <div class=\"row content-container\">\\n<div clas...   \n",
            "4     2010/01/01  <div class=\"row content-container\">\\n<div clas...   \n",
            "...          ...                                                ...   \n",
            "4860  2023/04/01  <div class=\"row content-container\">\\n<div clas...   \n",
            "4861  2023/04/01  <div class=\"row content-container\">\\n<div clas...   \n",
            "4862  2023/04/01  <div class=\"row content-container\">\\n<div clas...   \n",
            "4863  2023/04/01  <div class=\"row content-container\">\\n<div clas...   \n",
            "4864  2023/04/01  <div class=\"row content-container\">\\n<div clas...   \n",
            "\n",
            "                                              text_data  \n",
            "0     \\n\\nSaturday 100130\\n \\n\\nSaturday 100130\\n\\nS...  \n",
            "1     \\n\\nFriday 100129\\n \\n\\nFriday 100129\\n\\n10 mi...  \n",
            "2     \\n\\nThursday 100128\\n \\n\\nThursday 100128\\n\\nB...  \n",
            "3     \\n\\nWednesday 100127\\n \\n\\nWednesday 100127\\n\\...  \n",
            "4     \\n\\nTuesday 100126\\n \\n\\nTuesday 100126\\n\\nCle...  \n",
            "...                                                 ...  \n",
            "4860  \\n\\nWednesday 230405\\n \\n\\nWednesday 230405\\n\\...  \n",
            "4861  \\n\\nTuesday 230404\\n \\n\\nTuesday 230404\\n\\n3 r...  \n",
            "4862  \\n\\nMonday 230403\\n \\n\\nMonday 230403\\n\\nBack ...  \n",
            "4863  \\n\\nSunday 230402\\n \\n\\nSunday 230402\\n\\nAGQF ...  \n",
            "4864  \\n\\nSaturday 230401\\n \\n\\nSaturday 230401\\n\\nR...  \n",
            "\n",
            "[4865 rows x 3 columns]\n"
          ]
        }
      ]
    }
  ]
}